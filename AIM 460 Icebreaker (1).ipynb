{
 "cells": [
  {
   "cell_type": "markdown",
   "id": "154bfee9-089f-4e3a-84d2-43131e435735",
   "metadata": {},
   "source": [
    "Laiba Noor"
   ]
  },
  {
   "cell_type": "code",
   "execution_count": 3,
   "id": "e59707dc-21fb-4e69-ae11-7e93c852a425",
   "metadata": {},
   "outputs": [
    {
     "name": "stdout",
     "output_type": "stream",
     "text": [
      "Hello World!\n"
     ]
    }
   ],
   "source": [
    "print(\"Hello World!\")"
   ]
  },
  {
   "cell_type": "code",
   "execution_count": null,
   "id": "b8d6206e-3b31-40b5-a2a3-956219f0f561",
   "metadata": {},
   "outputs": [],
   "source": []
  }
 ],
 "metadata": {
  "kernelspec": {
   "display_name": "Python 3 (ipykernel)",
   "language": "python",
   "name": "python3"
  },
  "language_info": {
   "codemirror_mode": {
    "name": "ipython",
    "version": 3
   },
   "file_extension": ".py",
   "mimetype": "text/x-python",
   "name": "python",
   "nbconvert_exporter": "python",
   "pygments_lexer": "ipython3",
   "version": "3.9.10"
  }
 },
 "nbformat": 4,
 "nbformat_minor": 5
}
